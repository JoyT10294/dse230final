{
 "cells": [
  {
   "cell_type": "code",
   "execution_count": 1,
   "id": "demographic-obligation",
   "metadata": {},
   "outputs": [],
   "source": [
    "from wordcount_utils import removePunctuation\n",
    "from time import process_time\n",
    "import pandas as pd\n",
    "import numpy as np\n",
    "from scipy.stats import mode\n",
    "from sklearn.datasets import make_blobs\n",
    "from sklearn.linear_model import LogisticRegression, LogisticRegressionCV\n",
    "from sklearn.metrics import make_scorer, accuracy_score, confusion_matrix\n",
    "from sklearn.model_selection import cross_val_score, train_test_split, LeaveOneOut, GridSearchCV, StratifiedKFold, cross_validate\n",
    "from sklearn.tree import DecisionTreeClassifier\n",
    "from sklearn.preprocessing import StandardScaler\n",
    "from sklearn.cluster import KMeans\n",
    "import matplotlib.pyplot as plt\n",
    "%matplotlib inline\n",
    "import seaborn as sns\n",
    "sns.set(style=\"white\")\n",
    "sns.set(style=\"whitegrid\", color_codes=True)\n",
    "import pyspark\n",
    "from pyspark.ml.feature import FeatureHasher\n",
    "from pyspark.sql import SparkSession\n",
    "from pyspark.sql.functions import regexp_replace, trim, col, lower\n",
    "import pyspark.sql.functions as f\n",
    "from pyspark.sql.types import *\n",
    "from pyspark.sql.window import Window"
   ]
  },
  {
   "cell_type": "code",
   "execution_count": 2,
   "id": "threaded-subsection",
   "metadata": {},
   "outputs": [],
   "source": [
    "#Specify the path of the data file\n",
    "datafile = '/dse230final/allpep.csv'\n",
    "# Initialize Spark\n",
    "spark= pyspark.sql.SparkSession.builder.master('local[*]').appName(\"DSE Final Project\").getOrCreate()"
   ]
  },
  {
   "cell_type": "code",
   "execution_count": 3,
   "id": "built-nigeria",
   "metadata": {},
   "outputs": [
    {
     "name": "stdout",
     "output_type": "stream",
     "text": [
      "112361\n",
      "+---------+-----------------+------------+--------+--------------------+------------------+----------------+----------+-----+---------+--------------------+--------+----------+\n",
      "|Cell Type|View Related Data|Epitope Type|Position|    Peptide Sequence|           Disease|Epitope Sequence|peptide_id|   ID|MHC Types|        Epitope Name|Antibody|Disease_ID|\n",
      "+---------+-----------------+------------+--------+--------------------+------------------+----------------+----------+-----+---------+--------------------+--------+----------+\n",
      "|    Bcell|              793|      Simple|       5|QVPLVQQQQFPGQQQPF...|allergy by trigger|      VQQQQFPGQQ|      8501|21969|     null|alpha/beta gliadi...|     IgE|         1|\n",
      "|    Bcell|              793|      Simple|      23|VPVPQLQPQNPSQQQPQ...|allergy by trigger|      VQQQQFPGQQ|      8506|22035|     null|alpha/beta gliadi...|     IgE|         2|\n",
      "|    Bcell|              793|      Simple|      23|VPVPQPQPQNPSQPQPQ...|allergy by trigger|      VQQQQFPGQQ|      8510|22087|     null|alpha/beta gliadi...|     IgE|         3|\n",
      "+---------+-----------------+------------+--------+--------------------+------------------+----------------+----------+-----+---------+--------------------+--------+----------+\n",
      "only showing top 3 rows\n",
      "\n",
      "None\n"
     ]
    }
   ],
   "source": [
    "rawdf=spark.read.option(\"header\",True).csv(datafile)\n",
    "rawdf=rawdf.drop('_c0')\n",
    "w = Window().orderBy(f.lit('A'))\n",
    "newdf=rawdf.withColumn(\"Disease_ID\", f.row_number().over(w))\n",
    "print(newdf.show(3))\n",
    "print('The dataset contains ' + str(newdf.count()) + ' '"
   ]
  },
  {
   "cell_type": "code",
   "execution_count": 11,
   "id": "sized-hungary",
   "metadata": {},
   "outputs": [],
   "source": [
    "labelpepdf=newdf.withColumn(\"Disease_ID_Main\", f.when(newdf.Disease.startswith('celiac disease'),\n",
    "            0).when(newdf.Disease.startswith('allergy'),1).when(newdf.Disease.startswith('healthy'),\n",
    "            2).when(newdf.Disease.startswith('diabetes'),3).otherwise(4))"
   ]
  },
  {
   "cell_type": "code",
   "execution_count": null,
   "id": "expanded-welding",
   "metadata": {},
   "outputs": [],
   "source": []
  },
  {
   "cell_type": "code",
   "execution_count": null,
   "id": "ordinary-belle",
   "metadata": {},
   "outputs": [],
   "source": []
  },
  {
   "cell_type": "code",
   "execution_count": null,
   "id": "prescribed-encoding",
   "metadata": {},
   "outputs": [],
   "source": []
  },
  {
   "cell_type": "code",
   "execution_count": null,
   "id": "surprised-supervisor",
   "metadata": {},
   "outputs": [],
   "source": []
  },
  {
   "cell_type": "code",
   "execution_count": null,
   "id": "caroline-scott",
   "metadata": {},
   "outputs": [],
   "source": []
  },
  {
   "cell_type": "code",
   "execution_count": null,
   "id": "pediatric-malawi",
   "metadata": {},
   "outputs": [],
   "source": []
  },
  {
   "cell_type": "code",
   "execution_count": null,
   "id": "fantastic-premiere",
   "metadata": {},
   "outputs": [],
   "source": []
  },
  {
   "cell_type": "raw",
   "id": "municipal-sound",
   "metadata": {},
   "source": [
    "diseases=rawdf.groupby('Disease').count().select('Disease')\n",
    "diseasenames=diseases.withColumn(\"Disease_ID\", f.row_number().over(w))\n",
    "print(diseasenames.show())"
   ]
  },
  {
   "cell_type": "raw",
   "id": "lined-effects",
   "metadata": {},
   "source": [
    "for row in newdf.rdd.toLocalIterator():\n",
    "    disid=row['Disease_ID'];\n",
    "    disease=row['Disease'];\n",
    "    replaceval=diseasenames.filter(diseasenames.Disease == disease).select(\"Disease_ID\");\n",
    "    replaceval=replaceval.rdd.flatMap(lambda x: x).collect()[0];\n",
    "    newdf=newdf.na.replace(disid,replaceval,subset=[\"Disease_ID\"]);"
   ]
  }
 ],
 "metadata": {
  "kernelspec": {
   "display_name": "Python 3",
   "language": "python",
   "name": "python3"
  },
  "language_info": {
   "codemirror_mode": {
    "name": "ipython",
    "version": 3
   },
   "file_extension": ".py",
   "mimetype": "text/x-python",
   "name": "python",
   "nbconvert_exporter": "python",
   "pygments_lexer": "ipython3",
   "version": "3.8.5"
  }
 },
 "nbformat": 4,
 "nbformat_minor": 5
}
